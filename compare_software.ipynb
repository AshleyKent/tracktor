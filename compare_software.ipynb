{
 "cells": [
  {
   "cell_type": "code",
   "execution_count": 11,
   "metadata": {},
   "outputs": [],
   "source": [
    "import numpy as np\n",
    "import pandas as pd\n",
    "import tracker as tr\n",
    "import cv2\n",
    "from scipy.optimize import linear_sum_assignment\n",
    "from scipy.spatial.distance import cdist"
   ]
  },
  {
   "cell_type": "code",
   "execution_count": 14,
   "metadata": {},
   "outputs": [],
   "source": [
    "# colours is a vector of BGR values which are used to identify individuals in the video\n",
    "# since we only have one individual, the program will only use the first element from this array i.e. (0,0,255) - red\n",
    "# number of elements in colours should be greater than n_inds (THIS IS NECESSARY FOR VISUALISATION ONLY)\n",
    "n_inds = 1\n",
    "colours = [(0,0,255),(0,255,255),(255,0,255),(255,255,255),(255,255,0),(255,0,0),(0,255,0),(0,0,0)]\n",
    "\n",
    "# name of source video and paths\n",
    "video = 'fish_video'\n",
    "input_vidpath = '/mnt/ssd1/Documents/Vivek/tracktor/videos/' + video + '.mp4'\n",
    "output_vidpath = '/mnt/ssd1/Documents/Vivek/tracktor/output/' + video + '_tracked.mp4'\n",
    "tracktor_datapath = '/mnt/ssd1/Documents/Vivek/tracktor/output/' + video + '_tracked.csv'\n",
    "toxtrack_datapath = '/mnt/ssd1/Documents/Vivek/tracktor/output/' + video + '_toxtracked.txt'\n",
    "codec = 'DIVX' # try other codecs if the default doesn't work ('DIVX', 'avc1', 'XVID') note: this list is non-exhaustive"
   ]
  },
  {
   "cell_type": "code",
   "execution_count": 10,
   "metadata": {},
   "outputs": [
    {
     "data": {
      "text/plain": [
       "-1"
      ]
     },
     "execution_count": 10,
     "metadata": {},
     "output_type": "execute_result"
    }
   ],
   "source": [
    "## Open video\n",
    "cap = cv2.VideoCapture(input_vidpath)\n",
    "if cap.isOpened() == False:\n",
    "    sys.exit('Video file cannot be read! Please check input_vidpath to ensure it is correctly pointing to the video file')\n",
    "\n",
    "## Open datafiles\n",
    "df1 = pd.read_table(toxtrack_datapath, header=None, index_col=False, names=['frame', 'arena', 'id', 'pos_x', 'pos_y'])\n",
    "df2 = pd.read_csv(tracktor_datapath)\n",
    "\n",
    "## Video writer class to output video with contour and centroid of tracked object(s)\n",
    "# make sure the frame size matches size of array 'final'\n",
    "fourcc = cv2.VideoWriter_fourcc(*codec)\n",
    "output_framesize = (int(cap.read()[1].shape[1]),int(cap.read()[1].shape[0]))\n",
    "out = cv2.VideoWriter(filename = output_vidpath, fourcc = fourcc, fps = 30.0, frameSize = output_framesize, isColor = True)\n",
    "last = 0\n",
    "\n",
    "while(True):\n",
    "    # Capture frame-by-frame\n",
    "    ret, frame = cap.read()\n",
    "\n",
    "    this = cap.get(1)\n",
    "    if ret == True:\n",
    "        frame = cv2.resize(frame, None, fx = 0.5, fy = 0.5, interpolation = cv2.INTER_LINEAR)\n",
    "        \n",
    "        if df1[df1['frame'] == this].empty == False:\n",
    "            x = df1[df1['frame'] == this]['pos_x']//2\n",
    "            y = df1[df1['frame'] == this]['pos_y']//2\n",
    "            cv2.circle(frame, (x,y), 5, (0,255,255), -1, cv2.LINE_AA)\n",
    "        if df2[df2['frame'] == this].empty == False:\n",
    "            x = df2[df2['frame'] == this]['pos_x']//2\n",
    "            y = df2[df2['frame'] == this]['pos_y']//2\n",
    "            cv2.circle(frame, (x,y), 5, (0,0,255), -1, cv2.LINE_AA)\n",
    "        \n",
    "        # Display the resulting frame\n",
    "        out.write(final)\n",
    "        cv2.imshow('frame', frame)\n",
    "        if cv2.waitKey(1) == 27:\n",
    "            break\n",
    "        \n",
    "    if last == this:\n",
    "        break\n",
    "    \n",
    "    last = this\n",
    "\n",
    "# When everything done, release the capture\n",
    "cap.release()\n",
    "out.release()\n",
    "cv2.destroyAllWindows()\n",
    "cv2.waitKey(1)"
   ]
  },
  {
   "cell_type": "code",
   "execution_count": null,
   "metadata": {},
   "outputs": [],
   "source": []
  }
 ],
 "metadata": {
  "kernelspec": {
   "display_name": "Python 3",
   "language": "python",
   "name": "python3"
  },
  "language_info": {
   "codemirror_mode": {
    "name": "ipython",
    "version": 3
   },
   "file_extension": ".py",
   "mimetype": "text/x-python",
   "name": "python",
   "nbconvert_exporter": "python",
   "pygments_lexer": "ipython3",
   "version": "3.7.0"
  }
 },
 "nbformat": 4,
 "nbformat_minor": 2
}
