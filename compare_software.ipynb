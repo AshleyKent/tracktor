{
 "cells": [
  {
   "cell_type": "code",
   "execution_count": 43,
   "metadata": {},
   "outputs": [],
   "source": [
    "import numpy as np\n",
    "import pandas as pd\n",
    "import tracktor as tr\n",
    "import sys\n",
    "import cv2\n",
    "from scipy.optimize import linear_sum_assignment\n",
    "from scipy.spatial.distance import cdist"
   ]
  },
  {
   "cell_type": "code",
   "execution_count": 77,
   "metadata": {},
   "outputs": [],
   "source": [
    "#number of individuals in tracked video\n",
    "n_inds = 4\n",
    "\n",
    "# offset to be added based on toxtrac arena selection\n",
    "offset_x = 45 # fish - 0; flume - 245; spider - 75; termite - 370; mouse - 85; tadpole - 45\n",
    "offset_y = 0 # fish - 0; flume - 0; spider - 0; termite - 0; mouse - 12; tadpole - 0\n",
    "\n",
    "# name of source video and paths\n",
    "video = 'tadpole_video'\n",
    "input_vidpath = '/mnt/ssd1/Documents/Vivek/tracktor/videos/' + video + '.avi'\n",
    "output_vidpath = '/mnt/ssd1/Documents/Vivek/tracktor/output/' + video + '_compared.mp4'\n",
    "tracktor_datapath = '/mnt/ssd1/Documents/Vivek/tracktor/output/' + video + '_tracked.csv'\n",
    "toxtrack_datapath = '/mnt/ssd1/Documents/Vivek/tracktor/output/' + video + '_toxtracked.txt'\n",
    "codec = 'DIVX' # try other codecs if the default doesn't work ('DIVX', 'avc1', 'XVID') note: this list is non-exhaustive"
   ]
  },
  {
   "cell_type": "code",
   "execution_count": 74,
   "metadata": {},
   "outputs": [],
   "source": [
    "## Open video\n",
    "cap = cv2.VideoCapture(input_vidpath)\n",
    "if cap.isOpened() == False:\n",
    "    sys.exit('Video file cannot be read! Please check input_vidpath to ensure it is correctly pointing to the video file')\n",
    "\n",
    "## Open datafiles\n",
    "df1 = pd.read_table(toxtrack_datapath, header=None, index_col=False, names=['frame', 'arena', 'id', 'pos_x', 'pos_y'])\n",
    "df2 = pd.read_csv(tracktor_datapath)"
   ]
  },
  {
   "cell_type": "code",
   "execution_count": 75,
   "metadata": {},
   "outputs": [
    {
     "data": {
      "text/plain": [
       "-1"
      ]
     },
     "execution_count": 75,
     "metadata": {},
     "output_type": "execute_result"
    }
   ],
   "source": [
    "## Video writer class to output video with contour and centroid of tracked object(s)\n",
    "# make sure the frame size matches size of array 'final'\n",
    "fourcc = cv2.VideoWriter_fourcc(*codec)\n",
    "output_framesize = (int(cap.read()[1].shape[1]),int(cap.read()[1].shape[0]))\n",
    "out = cv2.VideoWriter(filename = output_vidpath, fourcc = fourcc, fps = 30.0, frameSize = output_framesize, isColor = True)\n",
    "last = 0\n",
    "\n",
    "while(True):\n",
    "    # Capture frame-by-frame\n",
    "    ret, frame = cap.read()\n",
    "\n",
    "    this = cap.get(1)\n",
    "    if ret == True:\n",
    "        frame = cv2.resize(frame, None, fx = 1.0, fy = 1.0, interpolation = cv2.INTER_LINEAR)\n",
    "        \n",
    "        if df1[df1['frame'] == this].empty == False:\n",
    "            x1 = df1[df1['frame'] == this]['pos_x']+offset_x\n",
    "            y1 = df1[df1['frame'] == this]['pos_y']+offset_y\n",
    "            for pts1 in range(0,len(x1)):\n",
    "                cv2.circle(frame, (int(x1.values[pts1]),int(y1.values[pts1])), 5, (100,255,255), -1, cv2.LINE_AA)\n",
    "        if df2[df2['frame'] == this].empty == False:\n",
    "            x2 = df2[df2['frame'] == this]['pos_x']\n",
    "            y2 = df2[df2['frame'] == this]['pos_y']\n",
    "            for pts2 in range(0,len(x2)):\n",
    "                cv2.circle(frame, (int(x2.values[pts2]),int(y2.values[pts2])), 5, (100,100,255), -1, cv2.LINE_AA)\n",
    "        \n",
    "        # Display the resulting frame\n",
    "        out.write(frame)\n",
    "        cv2.imshow('frame', frame)\n",
    "        if cv2.waitKey(1) == 27:\n",
    "            break\n",
    "        \n",
    "    if last == this:\n",
    "        break\n",
    "    \n",
    "    last = this\n",
    "\n",
    "# When everything done, release the capture\n",
    "cap.release()\n",
    "out.release()\n",
    "cv2.destroyAllWindows()\n",
    "cv2.waitKey(1)"
   ]
  },
  {
   "cell_type": "code",
   "execution_count": 78,
   "metadata": {},
   "outputs": [
    {
     "name": "stdout",
     "output_type": "stream",
     "text": [
      "--- toxtrac accuracy - 0.8597256097560976 ---\n",
      "--- tracktor accuracy - 1.0 ---\n"
     ]
    }
   ],
   "source": [
    "acc1 = len(df1['frame']) / (n_inds*this)\n",
    "acc2 = len(df2['frame']) / (n_inds*this)\n",
    "\n",
    "print(\"--- toxtrac accuracy - %s ---\" %acc1)\n",
    "print(\"--- tracktor accuracy - %s ---\" %acc2)"
   ]
  },
  {
   "cell_type": "code",
   "execution_count": null,
   "metadata": {},
   "outputs": [],
   "source": []
  }
 ],
 "metadata": {
  "kernelspec": {
   "display_name": "Python 3",
   "language": "python",
   "name": "python3"
  },
  "language_info": {
   "codemirror_mode": {
    "name": "ipython",
    "version": 3
   },
   "file_extension": ".py",
   "mimetype": "text/x-python",
   "name": "python",
   "nbconvert_exporter": "python",
   "pygments_lexer": "ipython3",
   "version": "3.6.3"
  }
 },
 "nbformat": 4,
 "nbformat_minor": 2
}
