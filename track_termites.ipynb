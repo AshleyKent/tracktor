{
 "cells": [
  {
   "cell_type": "code",
   "execution_count": 1,
   "metadata": {
    "collapsed": false,
    "deletable": true,
    "editable": true
   },
   "outputs": [],
   "source": [
    "import numpy as np\n",
    "import pandas as pd\n",
    "import tracktor as tr\n",
    "import cv2\n",
    "from sklearn.cluster import KMeans\n",
    "from scipy.optimize import linear_sum_assignment\n",
    "from scipy.spatial.distance import cdist"
   ]
  },
  {
   "cell_type": "code",
   "execution_count": 2,
   "metadata": {
    "collapsed": true,
    "deletable": true,
    "editable": true
   },
   "outputs": [],
   "source": [
    "n_inds = 8\n",
    "t_id = ['A', 'B', 'C', 'D', 'E', 'F', 'G', 'H']\n",
    "colours = [(0,0,255),(0,255,255),(255,0,255),(255,255,255),(255,255,0),(255,0,0),(0,255,0),(0,0,0)]\n",
    "\n",
    "block_size = 51\n",
    "offset = 20\n",
    "\n",
    "min_area = 500\n",
    "max_area = 10000\n",
    "\n",
    "# mot determines whether the tracker is being used in noisy conditions to track a single object or for multi-object\n",
    "# tracking (mot) in a noise-free environment\n",
    "mot = True\n",
    "\n",
    "mask_offset_x = -18\n",
    "mask_offset_y = -5\n",
    "\n",
    "video = 'N02HHS2017-V4'"
   ]
  },
  {
   "cell_type": "code",
   "execution_count": 3,
   "metadata": {
    "collapsed": false,
    "deletable": true,
    "editable": true
   },
   "outputs": [
    {
     "data": {
      "text/plain": [
       "-1"
      ]
     },
     "execution_count": 3,
     "metadata": {},
     "output_type": "execute_result"
    }
   ],
   "source": [
    "cap = cv2.VideoCapture(\"/Users/viveksridhar/Documents/Code/Python/OpenCV/tracktor/videos/\" + video + \".MP4\")\n",
    "\n",
    "fourcc = cv2.VideoWriter_fourcc(*'avc1')\n",
    "out = cv2.VideoWriter(filename = video + '.mp4', fourcc = fourcc, fps = 60.0, frameSize = (1920, 1080), isColor = True)\n",
    "\n",
    "meas_last = list(np.zeros((n_inds,2)))\n",
    "meas_now = list(np.zeros((n_inds,2)))\n",
    "current_ids = list(range(n_inds))\n",
    "\n",
    "df = []\n",
    "last = 0\n",
    "\n",
    "while(True):\n",
    "    # Capture frame-by-frame\n",
    "    ret, frame = cap.read()\n",
    "    \n",
    "    this = cap.get(1)\n",
    "    if ret == True:\n",
    "        # Preprocess the image for background subtraction\n",
    "        frame = cv2.resize(frame, None, fx = 1.0, fy = 1.0, interpolation = cv2.INTER_LINEAR)\n",
    "        thresh = tr.colour_to_thresh(frame, block_size, offset)\n",
    "\n",
    "        # Apply mask to ignore area outside the petri dish\n",
    "        mask = np.zeros(thresh.shape)\n",
    "        cv2.circle(mask, (mask.shape[1]//2 + mask_offset_x, mask.shape[0]//2 + mask_offset_y), 520, 255, -1)\n",
    "        thresh[mask == 0] = 0\n",
    "        \n",
    "        # Custom background subtraction\n",
    "        bg = thresh.copy()\n",
    "        cv2.circle(bg, (bg.shape[1]//2 + mask_offset_x, bg.shape[0]//2 + mask_offset_y), 520, 0, -1)\n",
    "        bgsub = thresh - bg\n",
    "        \n",
    "        final, contours, meas_last, meas_now = tr.detect_and_draw_contours(frame, thresh, meas_last, meas_now, min_area, max_area)\n",
    "        if len(meas_now) != n_inds:\n",
    "            contours, meas_now = tr.apply_k_means(contours, n_inds, meas_now)\n",
    "        \n",
    "        row_ind, col_ind = tr.hungarian_algorithm(meas_last, meas_now)\n",
    "        final, meas_now, df = tr.reorder_and_draw(final, colours, n_inds, col_ind, meas_now, df, mot, this)\n",
    "        \n",
    "        # Create output dataframe\n",
    "        for i in range(n_inds):\n",
    "            df.append([this, meas_now[i][0], meas_now[i][1], t_id[i]])\n",
    "        \n",
    "        # Display the resulting frame\n",
    "        out.write(final)\n",
    "        cv2.imshow('frame', final)\n",
    "        if cv2.waitKey(1) == 27:\n",
    "            break\n",
    "            \n",
    "    if last == this:\n",
    "        break\n",
    "    \n",
    "    last = this\n",
    "\n",
    "# Write positions to file\n",
    "df = pd.DataFrame(np.matrix(df), columns = ['frame','pos_x','pos_y', 'id'])\n",
    "df.to_csv(video + '.csv', sep=',')\n",
    "\n",
    "# When everything done, release the capture\n",
    "cap.release()\n",
    "out.release()\n",
    "cv2.destroyAllWindows()\n",
    "cv2.waitKey(1)"
   ]
  },
  {
   "cell_type": "code",
   "execution_count": null,
   "metadata": {
    "collapsed": true,
    "deletable": true,
    "editable": true
   },
   "outputs": [],
   "source": []
  }
 ],
 "metadata": {
  "kernelspec": {
   "display_name": "Python 3",
   "language": "python",
   "name": "python3"
  },
  "language_info": {
   "codemirror_mode": {
    "name": "ipython",
    "version": 3
   },
   "file_extension": ".py",
   "mimetype": "text/x-python",
   "name": "python",
   "nbconvert_exporter": "python",
   "pygments_lexer": "ipython3",
   "version": "3.6.4"
  }
 },
 "nbformat": 4,
 "nbformat_minor": 0
}
