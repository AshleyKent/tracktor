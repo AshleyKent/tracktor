{
 "cells": [
  {
   "cell_type": "code",
   "execution_count": 1,
   "metadata": {},
   "outputs": [],
   "source": [
    "import numpy as np\n",
    "import pandas as pd\n",
    "import tracktor as tr\n",
    "import cv2\n",
    "from scipy.optimize import linear_sum_assignment\n",
    "from scipy.spatial.distance import cdist"
   ]
  },
  {
   "cell_type": "markdown",
   "metadata": {},
   "source": [
    "## Global parameters\n",
    "This cell (below) enlists user-defined parameters"
   ]
  },
  {
   "cell_type": "code",
   "execution_count": 2,
   "metadata": {},
   "outputs": [],
   "source": [
    "# colours is a vector of BGR values which are used to identify individuals in the video\n",
    "# since we only have one individual, the program will only use the first element from this array i.e. (0,0,255) - red\n",
    "# number of elements in colours should be greater than n_inds (THIS IS NECESSARY FOR VISUALISATION ONLY)\n",
    "n_inds = 1\n",
    "colours = [(0,0,255),(0,255,255),(255,0,255),(255,255,255),(255,255,0),(255,0,0),(0,255,0),(0,0,0)]\n",
    "\n",
    "# this is the block_size and offset used for adaptive thresholding (block_size should always be odd)\n",
    "# these values are critical for tracking performance\n",
    "block_size = 81\n",
    "offset = 38\n",
    "\n",
    "# minimum area and maximum area occupied by the animal in number of pixels\n",
    "# this parameter is used to get rid of other objects in view that might be hard to threshold out but are differently sized\n",
    "min_area = 1000\n",
    "max_area = 10000\n",
    "\n",
    "# mot determines whether the tracker is being used in noisy conditions to track a single object or for multi-object\n",
    "# using this will enable k-means clustering to force n_inds number of animals\n",
    "mot = False\n",
    "\n",
    "# name of source video and paths\n",
    "video = 'fish_video'\n",
    "input_vidpath = '/home/user/Documents/Vivek/tracktor/videos/' + video + '.mp4'\n",
    "output_vidpath = '/home/user/Documents/Vivek/tracktor/output/' + video + '.mp4'\n",
    "output_filepath = '/home/user/Documents/Vivek/tracktor/output/' + video + '.csv'\n",
    "output_framesize = (1920, 1080)\n",
    "codec = 'DIVX' # try other codecs if the default doesn't work ('DIVX', 'avc1', 'XVID') note: this list is non-exhaustive"
   ]
  },
  {
   "cell_type": "markdown",
   "metadata": {},
   "source": [
    "The cell below runs the tracking code"
   ]
  },
  {
   "cell_type": "code",
   "execution_count": 100,
   "metadata": {},
   "outputs": [
    {
     "data": {
      "text/plain": [
       "-1"
      ]
     },
     "execution_count": 100,
     "metadata": {},
     "output_type": "execute_result"
    }
   ],
   "source": [
    "## Path to source video\n",
    "cap = cv2.VideoCapture(input_vidpath)\n",
    "\n",
    "## Video writer class to output video with contour and centroid of tracked object(s)\n",
    "# make sure the frame size matches size of array 'final'\n",
    "fourcc = cv2.VideoWriter_fourcc(*codec)\n",
    "out = cv2.VideoWriter(filename = output_vidpath, fourcc = fourcc, fps = 30.0, frameSize = output_framesize, isColor = True)\n",
    "\n",
    "## Individual location(s) measured in the last and current step\n",
    "meas_last = list(np.zeros((n_inds,2)))\n",
    "meas_now = list(np.zeros((n_inds,2)))\n",
    "\n",
    "last = 0\n",
    "df = []\n",
    "\n",
    "while(True):\n",
    "    # Capture frame-by-frame\n",
    "    ret, frame = cap.read()\n",
    "\n",
    "    this = cap.get(1)\n",
    "    if ret == True:\n",
    "        frame = cv2.resize(frame, None, fx = 1.0, fy = 1.0, interpolation = cv2.INTER_LINEAR)\n",
    "        thresh = tr.colour_to_thresh(frame, block_size, offset)\n",
    "        final, contours, meas_last, meas_now = tr.detect_and_draw_contours(frame, thresh, meas_last, meas_now, min_area, max_area)\n",
    "        row_ind, col_ind = tr.hungarian_algorithm(meas_last, meas_now)\n",
    "        final, meas_now, df = tr.reorder_and_draw(final, colours, n_inds, col_ind, meas_now, df, mot, this)\n",
    "        \n",
    "        # Create output dataframe\n",
    "        for i in range(n_inds):\n",
    "            df.append([this, meas_now[i][0], meas_now[i][1]])\n",
    "        \n",
    "        # Display the resulting frame\n",
    "        out.write(final)\n",
    "        cv2.imshow('frame', final)\n",
    "        if cv2.waitKey(1) == 27 or meas_now[0][0] < 50 or meas_now[0][0] > cap.get(3) - 50 or meas_now[0][1] < 50 or meas_now[0][1] > cap.get(4) - 50:\n",
    "            break\n",
    "            \n",
    "    if last == this:\n",
    "        break\n",
    "    \n",
    "    last = this\n",
    "\n",
    "## Write positions to file\n",
    "df = pd.DataFrame(np.matrix(df), columns = ['frame','pos_x','pos_y'])\n",
    "df.to_csv(output_filepath, sep=',')\n",
    "\n",
    "## When everything done, release the capture\n",
    "cap.release()\n",
    "out.release()\n",
    "cv2.destroyAllWindows()\n",
    "cv2.waitKey(1)"
   ]
  },
  {
   "cell_type": "markdown",
   "metadata": {
    "collapsed": true
   },
   "source": [
    "## Summary statistics\n",
    "The cells below provide functions to perform basic summary statistics - in this case, distance moved between successive frames, cumulative distance within a time-window, velocity and acceleration."
   ]
  },
  {
   "cell_type": "code",
   "execution_count": 3,
   "metadata": {},
   "outputs": [
    {
     "data": {
      "text/html": [
       "<div>\n",
       "<style scoped>\n",
       "    .dataframe tbody tr th:only-of-type {\n",
       "        vertical-align: middle;\n",
       "    }\n",
       "\n",
       "    .dataframe tbody tr th {\n",
       "        vertical-align: top;\n",
       "    }\n",
       "\n",
       "    .dataframe thead th {\n",
       "        text-align: right;\n",
       "    }\n",
       "</style>\n",
       "<table border=\"1\" class=\"dataframe\">\n",
       "  <thead>\n",
       "    <tr style=\"text-align: right;\">\n",
       "      <th></th>\n",
       "      <th>Unnamed: 0</th>\n",
       "      <th>frame</th>\n",
       "      <th>pos_x</th>\n",
       "      <th>pos_y</th>\n",
       "    </tr>\n",
       "  </thead>\n",
       "  <tbody>\n",
       "    <tr>\n",
       "      <th>0</th>\n",
       "      <td>0</td>\n",
       "      <td>1.0</td>\n",
       "      <td>1528.310183</td>\n",
       "      <td>330.560520</td>\n",
       "    </tr>\n",
       "    <tr>\n",
       "      <th>1</th>\n",
       "      <td>1</td>\n",
       "      <td>2.0</td>\n",
       "      <td>1528.270715</td>\n",
       "      <td>330.355241</td>\n",
       "    </tr>\n",
       "    <tr>\n",
       "      <th>2</th>\n",
       "      <td>2</td>\n",
       "      <td>3.0</td>\n",
       "      <td>1528.266545</td>\n",
       "      <td>330.394003</td>\n",
       "    </tr>\n",
       "    <tr>\n",
       "      <th>3</th>\n",
       "      <td>3</td>\n",
       "      <td>4.0</td>\n",
       "      <td>1528.014137</td>\n",
       "      <td>330.746537</td>\n",
       "    </tr>\n",
       "    <tr>\n",
       "      <th>4</th>\n",
       "      <td>4</td>\n",
       "      <td>5.0</td>\n",
       "      <td>1527.535179</td>\n",
       "      <td>331.382478</td>\n",
       "    </tr>\n",
       "  </tbody>\n",
       "</table>\n",
       "</div>"
      ],
      "text/plain": [
       "   Unnamed: 0  frame        pos_x       pos_y\n",
       "0           0    1.0  1528.310183  330.560520\n",
       "1           1    2.0  1528.270715  330.355241\n",
       "2           2    3.0  1528.266545  330.394003\n",
       "3           3    4.0  1528.014137  330.746537\n",
       "4           4    5.0  1527.535179  331.382478"
      ]
     },
     "execution_count": 3,
     "metadata": {},
     "output_type": "execute_result"
    }
   ],
   "source": [
    "df = pd.read_csv(output_filepath)\n",
    "df.head()"
   ]
  },
  {
   "cell_type": "code",
   "execution_count": 4,
   "metadata": {},
   "outputs": [
    {
     "data": {
      "text/html": [
       "<div>\n",
       "<style scoped>\n",
       "    .dataframe tbody tr th:only-of-type {\n",
       "        vertical-align: middle;\n",
       "    }\n",
       "\n",
       "    .dataframe tbody tr th {\n",
       "        vertical-align: top;\n",
       "    }\n",
       "\n",
       "    .dataframe thead th {\n",
       "        text-align: right;\n",
       "    }\n",
       "</style>\n",
       "<table border=\"1\" class=\"dataframe\">\n",
       "  <thead>\n",
       "    <tr style=\"text-align: right;\">\n",
       "      <th></th>\n",
       "      <th>Unnamed: 0</th>\n",
       "      <th>frame</th>\n",
       "      <th>pos_x</th>\n",
       "      <th>pos_y</th>\n",
       "      <th>speed</th>\n",
       "      <th>accn</th>\n",
       "      <th>cum_dist</th>\n",
       "    </tr>\n",
       "  </thead>\n",
       "  <tbody>\n",
       "    <tr>\n",
       "      <th>0</th>\n",
       "      <td>0</td>\n",
       "      <td>1.0</td>\n",
       "      <td>1528.310183</td>\n",
       "      <td>330.560520</td>\n",
       "      <td>NaN</td>\n",
       "      <td>NaN</td>\n",
       "      <td>NaN</td>\n",
       "    </tr>\n",
       "    <tr>\n",
       "      <th>1</th>\n",
       "      <td>1</td>\n",
       "      <td>2.0</td>\n",
       "      <td>1528.270715</td>\n",
       "      <td>330.355241</td>\n",
       "      <td>0.209039</td>\n",
       "      <td>NaN</td>\n",
       "      <td>0.209039</td>\n",
       "    </tr>\n",
       "    <tr>\n",
       "      <th>2</th>\n",
       "      <td>2</td>\n",
       "      <td>3.0</td>\n",
       "      <td>1528.266545</td>\n",
       "      <td>330.394003</td>\n",
       "      <td>0.038986</td>\n",
       "      <td>0.246581</td>\n",
       "      <td>0.248025</td>\n",
       "    </tr>\n",
       "    <tr>\n",
       "      <th>3</th>\n",
       "      <td>3</td>\n",
       "      <td>4.0</td>\n",
       "      <td>1528.014137</td>\n",
       "      <td>330.746537</td>\n",
       "      <td>0.433579</td>\n",
       "      <td>0.400094</td>\n",
       "      <td>0.681603</td>\n",
       "    </tr>\n",
       "    <tr>\n",
       "      <th>4</th>\n",
       "      <td>4</td>\n",
       "      <td>5.0</td>\n",
       "      <td>1527.535179</td>\n",
       "      <td>331.382478</td>\n",
       "      <td>0.796129</td>\n",
       "      <td>0.362828</td>\n",
       "      <td>1.477732</td>\n",
       "    </tr>\n",
       "  </tbody>\n",
       "</table>\n",
       "</div>"
      ],
      "text/plain": [
       "   Unnamed: 0  frame        pos_x       pos_y     speed      accn  cum_dist\n",
       "0           0    1.0  1528.310183  330.560520       NaN       NaN       NaN\n",
       "1           1    2.0  1528.270715  330.355241  0.209039       NaN  0.209039\n",
       "2           2    3.0  1528.266545  330.394003  0.038986  0.246581  0.248025\n",
       "3           3    4.0  1528.014137  330.746537  0.433579  0.400094  0.681603\n",
       "4           4    5.0  1527.535179  331.382478  0.796129  0.362828  1.477732"
      ]
     },
     "execution_count": 4,
     "metadata": {},
     "output_type": "execute_result"
    }
   ],
   "source": [
    "dx = df['pos_x'] - df['pos_x'].shift(n_inds)\n",
    "dy = df['pos_y'] - df['pos_y'].shift(n_inds)\n",
    "d2x = dx - dx.shift(1)\n",
    "d2y = dy - dy.shift(1)\n",
    "df['speed'] = np.sqrt(dx**2 + dy**2)\n",
    "df['accn'] = np.sqrt(d2x**2 + d2y**2)\n",
    "df['cum_dist'] = df['speed'].cumsum()\n",
    "df.head()"
   ]
  },
  {
   "cell_type": "code",
   "execution_count": 5,
   "metadata": {},
   "outputs": [],
   "source": [
    "def cumul_dist(start_fr, end_fr):\n",
    "    if start_fr != 1:\n",
    "        cumul_dist = df['cum_dist'][df['frame'] == end_fr].values[0] - df['cum_dist'][df['frame'] == start_fr].values[0]\n",
    "    else:\n",
    "        cumul_dist = df['cum_dist'][df['frame'] == end_fr].values[0]\n",
    "    return cumul_dist"
   ]
  },
  {
   "cell_type": "code",
   "execution_count": 6,
   "metadata": {},
   "outputs": [
    {
     "data": {
      "text/plain": [
       "325.4126234493825"
      ]
     },
     "execution_count": 6,
     "metadata": {},
     "output_type": "execute_result"
    }
   ],
   "source": [
    "cumul_dist(150,200)"
   ]
  },
  {
   "cell_type": "markdown",
   "metadata": {},
   "source": [
    "Fill in the parameters below if you'd like movement measures to be converted from pixels and frames to real-world measures (cms and secs). Remember to scale pxpercm if you use a scaling factor while tracking (fx and fy arguments in cv2.resize)."
   ]
  },
  {
   "cell_type": "code",
   "execution_count": 7,
   "metadata": {},
   "outputs": [],
   "source": [
    "framerate = 1000\n",
    "pxpercm = 78"
   ]
  },
  {
   "cell_type": "code",
   "execution_count": 8,
   "metadata": {},
   "outputs": [
    {
     "data": {
      "text/html": [
       "<div>\n",
       "<style scoped>\n",
       "    .dataframe tbody tr th:only-of-type {\n",
       "        vertical-align: middle;\n",
       "    }\n",
       "\n",
       "    .dataframe tbody tr th {\n",
       "        vertical-align: top;\n",
       "    }\n",
       "\n",
       "    .dataframe thead th {\n",
       "        text-align: right;\n",
       "    }\n",
       "</style>\n",
       "<table border=\"1\" class=\"dataframe\">\n",
       "  <thead>\n",
       "    <tr style=\"text-align: right;\">\n",
       "      <th></th>\n",
       "      <th>Unnamed: 0</th>\n",
       "      <th>frame</th>\n",
       "      <th>pos_x</th>\n",
       "      <th>pos_y</th>\n",
       "      <th>speed</th>\n",
       "      <th>accn</th>\n",
       "      <th>cum_dist</th>\n",
       "      <th>time</th>\n",
       "    </tr>\n",
       "  </thead>\n",
       "  <tbody>\n",
       "    <tr>\n",
       "      <th>0</th>\n",
       "      <td>0</td>\n",
       "      <td>1.0</td>\n",
       "      <td>1528.310183</td>\n",
       "      <td>330.560520</td>\n",
       "      <td>NaN</td>\n",
       "      <td>NaN</td>\n",
       "      <td>NaN</td>\n",
       "      <td>0.001</td>\n",
       "    </tr>\n",
       "    <tr>\n",
       "      <th>1</th>\n",
       "      <td>1</td>\n",
       "      <td>2.0</td>\n",
       "      <td>1528.270715</td>\n",
       "      <td>330.355241</td>\n",
       "      <td>2.679985</td>\n",
       "      <td>NaN</td>\n",
       "      <td>0.002680</td>\n",
       "      <td>0.002</td>\n",
       "    </tr>\n",
       "    <tr>\n",
       "      <th>2</th>\n",
       "      <td>2</td>\n",
       "      <td>3.0</td>\n",
       "      <td>1528.266545</td>\n",
       "      <td>330.394003</td>\n",
       "      <td>0.499821</td>\n",
       "      <td>3161.296937</td>\n",
       "      <td>0.003180</td>\n",
       "      <td>0.003</td>\n",
       "    </tr>\n",
       "    <tr>\n",
       "      <th>3</th>\n",
       "      <td>3</td>\n",
       "      <td>4.0</td>\n",
       "      <td>1528.014137</td>\n",
       "      <td>330.746537</td>\n",
       "      <td>5.558699</td>\n",
       "      <td>5129.410989</td>\n",
       "      <td>0.008739</td>\n",
       "      <td>0.004</td>\n",
       "    </tr>\n",
       "    <tr>\n",
       "      <th>4</th>\n",
       "      <td>4</td>\n",
       "      <td>5.0</td>\n",
       "      <td>1527.535179</td>\n",
       "      <td>331.382478</td>\n",
       "      <td>10.206779</td>\n",
       "      <td>4651.635494</td>\n",
       "      <td>0.018945</td>\n",
       "      <td>0.005</td>\n",
       "    </tr>\n",
       "  </tbody>\n",
       "</table>\n",
       "</div>"
      ],
      "text/plain": [
       "   Unnamed: 0  frame        pos_x       pos_y      speed         accn  \\\n",
       "0           0    1.0  1528.310183  330.560520        NaN          NaN   \n",
       "1           1    2.0  1528.270715  330.355241   2.679985          NaN   \n",
       "2           2    3.0  1528.266545  330.394003   0.499821  3161.296937   \n",
       "3           3    4.0  1528.014137  330.746537   5.558699  5129.410989   \n",
       "4           4    5.0  1527.535179  331.382478  10.206779  4651.635494   \n",
       "\n",
       "   cum_dist   time  \n",
       "0       NaN  0.001  \n",
       "1  0.002680  0.002  \n",
       "2  0.003180  0.003  \n",
       "3  0.008739  0.004  \n",
       "4  0.018945  0.005  "
      ]
     },
     "execution_count": 8,
     "metadata": {},
     "output_type": "execute_result"
    }
   ],
   "source": [
    "df['time'] = df['frame'] / framerate\n",
    "df['speed'] = df['speed'] * framerate / pxpercm\n",
    "df['accn'] = df['accn'] * framerate * framerate / pxpercm\n",
    "df['cum_dist'] = df['cum_dist'] / pxpercm\n",
    "df.head()"
   ]
  },
  {
   "cell_type": "code",
   "execution_count": 9,
   "metadata": {},
   "outputs": [
    {
     "data": {
      "text/plain": [
       "0.01852473103244649"
      ]
     },
     "execution_count": 9,
     "metadata": {},
     "output_type": "execute_result"
    }
   ],
   "source": [
    "cumul_dist(140,170) / pxpercm"
   ]
  },
  {
   "cell_type": "code",
   "execution_count": 10,
   "metadata": {},
   "outputs": [
    {
     "data": {
      "text/plain": [
       "(4604.522223260131, 4605302.657564186)"
      ]
     },
     "execution_count": 10,
     "metadata": {},
     "output_type": "execute_result"
    }
   ],
   "source": [
    "np.nanmax(df['speed']), np.nanmax(df['accn'])"
   ]
  },
  {
   "cell_type": "code",
   "execution_count": 13,
   "metadata": {},
   "outputs": [
    {
     "data": {
      "image/png": "[encoded data removed]",
      "text/plain": [
       "<Figure size 432x288 with 1 Axes>"
      ]
     },
     "metadata": {},
     "output_type": "display_data"
    },
    {
     "data": {
      "image/png": "[encoded data removed]",
      "text/plain": [
       "<Figure size 432x288 with 1 Axes>"
      ]
     },
     "metadata": {},
     "output_type": "display_data"
    },
    {
     "data": {
      "image/png": "[encoded data removed]",
      "text/plain": [
       "<Figure size 432x288 with 1 Axes>"
      ]
     },
     "metadata": {},
     "output_type": "display_data"
    }
   ],
   "source": [
    "import matplotlib.pyplot as plt\n",
    "\n",
    "plt.plot(df['pos_x'], df['pos_y'])\n",
    "plt.xlabel('pos_x')\n",
    "plt.ylabel('pos_y')\n",
    "plt.show()\n",
    "\n",
    "plt.plot(df['time'], df['speed'])\n",
    "plt.ylim(0,200)\n",
    "plt.xlabel('time')\n",
    "plt.ylabel('speed (cm/s)')\n",
    "plt.show()\n",
    "\n",
    "plt.plot(df['time'], df['accn'])\n",
    "plt.ylim(0,200000)\n",
    "plt.xlabel('time')\n",
    "plt.ylabel('accn (cm/sq.s)')\n",
    "plt.show()"
   ]
  },
  {
   "cell_type": "code",
   "execution_count": null,
   "metadata": {},
   "outputs": [],
   "source": []
  }
 ],
 "metadata": {
  "kernelspec": {
   "display_name": "Python 3",
   "language": "python",
   "name": "python3"
  },
  "language_info": {
   "codemirror_mode": {
    "name": "ipython",
    "version": 3
   },
   "file_extension": ".py",
   "mimetype": "text/x-python",
   "name": "python",
   "nbconvert_exporter": "python",
   "pygments_lexer": "ipython3",
   "version": "3.6.3"
  }
 },
 "nbformat": 4,
 "nbformat_minor": 2
}
