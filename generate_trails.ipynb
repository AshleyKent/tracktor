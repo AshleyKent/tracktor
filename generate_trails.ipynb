{
 "cells": [
  {
   "cell_type": "code",
   "execution_count": 1,
   "metadata": {},
   "outputs": [],
   "source": [
    "import numpy as np\n",
    "import pandas as pd\n",
    "import tracktor as tr\n",
    "import collections\n",
    "import cv2\n",
    "import sys\n",
    "from sklearn.cluster import KMeans\n",
    "from scipy.optimize import linear_sum_assignment\n",
    "from scipy.spatial.distance import cdist"
   ]
  },
  {
   "cell_type": "code",
   "execution_count": 2,
   "metadata": {},
   "outputs": [],
   "source": [
    "# s-w-w-s-w-s-s-w\n",
    "colours = [(100,100,255),(100,255,255),(255,100,255),(200,200,200),(255,255,100),(255,100,100),(100,255,100),(100,100,100)]\n",
    "#colours = [(100,100,255),(100,255,255),(255,100,255),(200,200,200),(255,255,100),(255,100,100),(100,255,100),(100,100,100)]\n",
    "colours = [(100,100,255),(255,100,100),(180,30,30),(30,30,180),(100,255,100),(30,180,180),(100,255,255),(30,180,30)]\n",
    "colours = [(126,255,255),(18,255,255),(36,255,255),(54,255,255),(72,255,255),(90,255,255),(108,255,255),(162,255,255)]\n",
    "\n",
    "frame_range = 144\n",
    "max_radius = 5\n",
    "\n",
    "df = pd.read_csv(\"/Users/vivekhsridhar/Documents/Code/Python/OpenCV/tracktor/output/spider_video_tracked.csv\")\n",
    "input_vidpath = '/Users/vivekhsridhar/Documents/Code/Python/OpenCV/tracktor/videos/spider_video.mp4'\n",
    "output_vidpath = '/Users/vivekhsridhar/Documents/Code/Python/OpenCV/tracktor/output/spider_video_tracked.mp4'\n",
    "codec = 'DIVX'"
   ]
  },
  {
   "cell_type": "code",
   "execution_count": 3,
   "metadata": {
    "scrolled": true
   },
   "outputs": [
    {
     "name": "stderr",
     "output_type": "stream",
     "text": [
      "/usr/local/lib/python3.7/site-packages/ipykernel_launcher.py:2: SettingWithCopyWarning: \n",
      "A value is trying to be set on a copy of a slice from a DataFrame\n",
      "\n",
      "See the caveats in the documentation: http://pandas.pydata.org/pandas-docs/stable/indexing.html#indexing-view-versus-copy\n",
      "  \n"
     ]
    }
   ],
   "source": [
    "for idx, ID in enumerate(np.unique(df['id'])):\n",
    "    df['id'][df['id'] == ID] = idx"
   ]
  },
  {
   "cell_type": "code",
   "execution_count": 4,
   "metadata": {
    "scrolled": false
   },
   "outputs": [
    {
     "data": {
      "text/plain": [
       "-1"
      ]
     },
     "execution_count": 4,
     "metadata": {},
     "output_type": "execute_result"
    }
   ],
   "source": [
    "## Open video\n",
    "cap = cv2.VideoCapture(input_vidpath)\n",
    "if cap.isOpened() == False:\n",
    "    sys.exit('Video file cannot be read! Please check input_vidpath to ensure it is correctly pointing to the video file')\n",
    "\n",
    "## Video writer class to output video with contour and centroid of tracked object(s)\n",
    "# make sure the frame size matches size of array 'final'\n",
    "fourcc = cv2.VideoWriter_fourcc(*codec)\n",
    "output_framesize = (int(cap.read()[1].shape[1]),int(cap.read()[1].shape[0]))\n",
    "out = cv2.VideoWriter(filename = output_vidpath, fourcc = fourcc, fps = 60.0, frameSize = output_framesize, isColor = True)\n",
    "\n",
    "last = 0\n",
    "\n",
    "while(True):\n",
    "    # Capture frame-by-frame\n",
    "    ret, frame = cap.read()\n",
    "\n",
    "    this = cap.get(1)\n",
    "    \n",
    "    tmp = df[(df['frame'] > this-frame_range) & (df['frame'] <= this)]\n",
    "    tmp = tmp.reset_index()\n",
    "    if ret == True:\n",
    "        # Preprocess the image for background subtraction\n",
    "        frame = cv2.cvtColor(frame, cv2.COLOR_BGR2HSV)\n",
    "        thresh = cv2.cvtColor(frame, cv2.COLOR_BGR2GRAY)\n",
    "        thresh = cv2.adaptiveThreshold(thresh, 255, cv2.ADAPTIVE_THRESH_MEAN_C, cv2.THRESH_BINARY, 501, 20)\n",
    "        \n",
    "        for i in range(0,len(tmp)):\n",
    "            x = int(tmp.loc[i,'pos_x'])\n",
    "            y = int(tmp.loc[i,'pos_y'])\n",
    "            r = int(max_radius - (this - tmp.loc[i,'frame'])//(frame_range/max_radius))\n",
    "            c = colours[int(tmp.loc[i,'id'])]\n",
    "            cv2.circle(frame, (x,y), r, c, -1, cv2.LINE_AA)\n",
    "        \n",
    "        frame = cv2.cvtColor(frame, cv2.COLOR_HSV2BGR)\n",
    "        \n",
    "        # Display the resulting frame\n",
    "        out.write(frame)\n",
    "        cv2.imshow('frame', frame)\n",
    "        if cv2.waitKey(1) == 27:\n",
    "            break\n",
    "            \n",
    "    if last >= this:\n",
    "        break\n",
    "    \n",
    "    last = this\n",
    "\n",
    "## When everything done, release the capture\n",
    "cap.release()\n",
    "out.release()\n",
    "cv2.destroyAllWindows()\n",
    "cv2.waitKey(1)"
   ]
  },
  {
   "cell_type": "code",
   "execution_count": null,
   "metadata": {},
   "outputs": [],
   "source": []
  }
 ],
 "metadata": {
  "kernelspec": {
   "display_name": "Python 3",
   "language": "python",
   "name": "python3"
  },
  "language_info": {
   "codemirror_mode": {
    "name": "ipython",
    "version": 3
   },
   "file_extension": ".py",
   "mimetype": "text/x-python",
   "name": "python",
   "nbconvert_exporter": "python",
   "pygments_lexer": "ipython3",
   "version": "3.7.0"
  }
 },
 "nbformat": 4,
 "nbformat_minor": 2
}
